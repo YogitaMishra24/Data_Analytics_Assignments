{
 "cells": [
  {
   "cell_type": "code",
   "execution_count": 1,
   "id": "a867aad4-faf8-4972-8087-05f307767a02",
   "metadata": {},
   "outputs": [],
   "source": [
    "#Q1:\n",
    "import numpy as np\n",
    "from scipy.spatial import distance \n",
    "from sklearn.metrics.pairwise import cosine_similarity\n",
    "from sklearn.metrics import jaccard_score "
   ]
  },
  {
   "cell_type": "code",
   "execution_count": 2,
   "id": "e7398c8a-fd33-4a1e-8e21-2f8f3f725773",
   "metadata": {},
   "outputs": [
    {
     "name": "stdout",
     "output_type": "stream",
     "text": [
      "Customer Preference Comparison:\n",
      "\n",
      "Euclidean Distance: 2.65\n",
      "Manhattan Distance: 5.00\n",
      "Cosine Similarity: 0.95\n",
      "Hamming Distance: 2\n",
      "Jaccard Similarity: 0.60\n"
     ]
    }
   ],
   "source": [
    "#Sample Data\n",
    "customer_A =[4, 5, 2, 3, 4]\n",
    "customer_B =[5,3,2,4,5]\n",
    "\n",
    "customer_A_binary = [1,0,1,1,0,1]\n",
    "customer_B_binary = [1,1,1,0,0,1]\n",
    "\n",
    "euclidean_dist = distance.euclidean(customer_A,customer_B)\n",
    "manhattan_dist = distance.cityblock(customer_A,customer_B)\n",
    "cos_sim = cosine_similarity([customer_A],[customer_B])[0][0] # So [0][0] is just used to \"unwrap\" the similarity score from the 2D matrix returned.\n",
    "hamming_dist =distance.hamming(customer_A_binary,customer_B_binary)*len(customer_A_binary)\n",
    "jaccard_sim = jaccard_score(customer_A_binary,customer_B_binary)\n",
    "\n",
    "print(\"Customer Preference Comparison:\\n\")\n",
    "print(f\"Euclidean Distance: {euclidean_dist:.2f}\")\n",
    "print(f\"Manhattan Distance: {manhattan_dist:.2f}\")\n",
    "print(f\"Cosine Similarity: {cos_sim:.2f}\")\n",
    "print(f\"Hamming Distance: {hamming_dist:.0f}\")\n",
    "print(f\"Jaccard Similarity: {jaccard_sim:.2f}\")\n"
   ]
  },
  {
   "cell_type": "code",
   "execution_count": 3,
   "id": "121e9474-e8e7-4f8c-a2ed-7eabb53546d3",
   "metadata": {},
   "outputs": [
    {
     "name": "stdout",
     "output_type": "stream",
     "text": [
      "Chebyshev Distance: 1\n",
      "Minkowski Distance (p=3): 1.5874\n"
     ]
    }
   ],
   "source": [
    "#Q2:\n",
    "from scipy.spatial import distance\n",
    "\n",
    "# Movie ratings\n",
    "user1 = [5, 3, 4, 4, 2]\n",
    "user2 = [4, 2, 5, 4, 3]\n",
    "\n",
    "# 1. Chebyshev Distance\n",
    "chebyshev_distance = distance.chebyshev(user1, user2)\n",
    "\n",
    "# 2. Minkowski Distance (p=3)\n",
    "minkowski_distance = distance.minkowski(user1, user2, p=3)\n",
    "\n",
    "# Display results\n",
    "print(\"Chebyshev Distance:\", chebyshev_distance)\n",
    "print(\"Minkowski Distance (p=3):\", round(minkowski_distance, 4))\n",
    "\n"
   ]
  },
  {
   "cell_type": "code",
   "execution_count": null,
   "id": "8655163b-b0a9-4ac7-a87a-e4c81e97411f",
   "metadata": {},
   "outputs": [],
   "source": []
  }
 ],
 "metadata": {
  "kernelspec": {
   "display_name": "Python 3 (ipykernel)",
   "language": "python",
   "name": "python3"
  },
  "language_info": {
   "codemirror_mode": {
    "name": "ipython",
    "version": 3
   },
   "file_extension": ".py",
   "mimetype": "text/x-python",
   "name": "python",
   "nbconvert_exporter": "python",
   "pygments_lexer": "ipython3",
   "version": "3.13.5"
  }
 },
 "nbformat": 4,
 "nbformat_minor": 5
}
